{
 "cells": [
  {
   "cell_type": "markdown",
   "metadata": {},
   "source": [
    "# Time Series"
   ]
  },
  {
   "cell_type": "markdown",
   "metadata": {},
   "source": [
    "A time series is broadly classified into three categories of long-term fluctuations, short-term or periodic fluctuations, and random variations. A long-term variation or a trend shows the general tendency of the data to increase or decrease during a long period of time. The variation may be gradual but it is inevitably present.\n",
    "\n",
    "The patern of a time series is described by 3 deterministic components:\n",
    "\n",
    "The trend, wich changes with time and it does not repeat itself and it describes the direction in wich the series is going;\n",
    "the cyclic component;\n",
    "the seasonal component."
   ]
  },
  {
   "cell_type": "markdown",
   "metadata": {},
   "source": [
    "# Autoregressive (AR)"
   ]
  },
  {
   "cell_type": "markdown",
   "metadata": {},
   "source": [
    "### AR method models the next step in sequence as a linear function of observation at prior time steps.\n",
    "AR(1) - First order auto-regressive model.\n",
    "The method is suitable for univariate time series without trend and seasonal components.\n",
    "\n",
    "An auto-regressive model is when a value from a time series is regressed on previous values from that time series.\n",
    "eg. y(t) on y(t-1)\n",
    "\n",
    "In even simpler words \"Autoregression is a time series model that uses observations from previous time steps as input to a regression equation to predict the value at the next time step.\""
   ]
  },
  {
   "cell_type": "markdown",
   "metadata": {},
   "source": [
    "The input variable in this are taken as observations at previous time steps called lag variables\n",
    "\n",
    "We can predict the value for the next time step (t+1) given the observations at the last two time steps (t-1 and t-2) using the following regression model.\n",
    "X(t+1) = b0 + b1 * X(t-1) + b2 * X(t-2)\n",
    "\n",
    "As the regression model uses data from the same input variable at previous time steps, it is referred to as an autoregression (regression of self)."
   ]
  },
  {
   "cell_type": "code",
   "execution_count": 2,
   "metadata": {},
   "outputs": [
    {
     "name": "stdout",
     "output_type": "stream",
     "text": [
      "[100.24508588]\n"
     ]
    }
   ],
   "source": [
    "# Importing libraries\n",
    "from statsmodels.tsa.ar_model import AR\n",
    "from random import random\n",
    "\n",
    "# Generation of dataset using random function\n",
    "data = [x + random() for x in range(1,100)]\n",
    "\n",
    "# Initialize and fit AR model\n",
    "model = AR(data)\n",
    "model_fit = model.fit()\n",
    "\n",
    "# Predict the next value in the series\n",
    "yhat = model_fit.predict(len(data), len(data))\n",
    "print(yhat)"
   ]
  },
  {
   "cell_type": "markdown",
   "metadata": {},
   "source": [
    "# Moving Average (MA)"
   ]
  },
  {
   "cell_type": "markdown",
   "metadata": {},
   "source": [
    "### Rather than using past values of the forecast variable in a regression, a moving average model uses past forecast errors in a regression-like model.\n",
    "\n",
    "The 1st order MA model can be described as :\n",
    "x(t) = (mu) + w(t) + theta(1)*w(t-1)\n",
    "\n",
    "It is different from calculating the moving average of the time series.\n",
    "The method is suitable for univariate time series without trend and seasonal components."
   ]
  },
  {
   "cell_type": "code",
   "execution_count": 3,
   "metadata": {},
   "outputs": [
    {
     "name": "stdout",
     "output_type": "stream",
     "text": [
      "[76.26440592]\n"
     ]
    }
   ],
   "source": [
    "from statsmodels.tsa.arima_model import ARMA\n",
    "from random import random\n",
    "\n",
    "data = [x + random() for x in range(1,100)]\n",
    "\n",
    "model = ARMA(data, order=(0,1))\n",
    "model_fit = model.fit(disp=False)\n",
    "\n",
    "# Predict the next value in the series\n",
    "yhat = model_fit.predict(len(data), len(data))\n",
    "print(yhat)"
   ]
  },
  {
   "cell_type": "markdown",
   "metadata": {},
   "source": [
    "## Autocorrelation"
   ]
  },
  {
   "cell_type": "markdown",
   "metadata": {},
   "source": [
    "Before understanding auto-correlation, let's understand what is correlation.\n",
    "Correlation is relationship between any two variables that happen to occur together. \n",
    "If both the variables change in same direction i.e. either they increase together or decrease together, then they have a positive correlation. But if they move in opposite direction i.e. one increases and the other decreases then they have a negative correlation."
   ]
  },
  {
   "cell_type": "markdown",
   "metadata": {},
   "source": [
    "An autoregression model makes an assumption that the observations at previous time steps are useful to predict the value at the next time step.\n",
    "\n",
    "We can use statistical measures to calculate the correlation between the output variable and values at previous time steps at various different lags. The stronger the correlation between the output variable and a specific lagged variable, the more weight that autoregression model can put on that variable when modeling."
   ]
  },
  {
   "cell_type": "markdown",
   "metadata": {},
   "source": [
    "As the correlation is calculated between the variable and itself at previous time steps, it is called an autocorrelation. It is also called serial correlation because of the sequenced structure of time series data.\n",
    "\n",
    "The correlation statistics can also help to choose which lag variables will be useful in a model and which will not.\n",
    "\n",
    "Interestingly, if all lag variables show low or no correlation with the output variable, then it suggests that the time series problem may not be predictable. This can be very useful when getting started on a new dataset."
   ]
  },
  {
   "cell_type": "markdown",
   "metadata": {},
   "source": [
    "### Let's explore how we can find auto-correlation in data using the dataset"
   ]
  },
  {
   "cell_type": "code",
   "execution_count": 4,
   "metadata": {},
   "outputs": [
    {
     "name": "stderr",
     "output_type": "stream",
     "text": [
      "/home/deepshikha/.local/lib/python3.6/site-packages/pandas/core/series.py:3727: FutureWarning: from_csv is deprecated. Please use read_csv(...) instead. Note that some of the default arguments are different, so please refer to the documentation for from_csv when changing your function calls\n",
      "  infer_datetime_format=infer_datetime_format)\n"
     ]
    },
    {
     "data": {
      "text/plain": [
       "<Figure size 640x480 with 1 Axes>"
      ]
     },
     "metadata": {},
     "output_type": "display_data"
    }
   ],
   "source": [
    "# Import Libraries\n",
    "import pandas as pd\n",
    "from matplotlib import pyplot\n",
    "\n",
    "# Import Dataset\n",
    "series = pd.Series.from_csv('daily-minimum-temperatures.csv', header=0)\n",
    "\n",
    "# Convert values to float from str\n",
    "for i in range(0,len(series)):\n",
    "    series[i] = float(series[i])\n",
    "# Printing out first 5 values of dataset\n",
    "series.head()\n",
    "\n",
    "# Plotting the dataset\n",
    "series.plot()\n",
    "pyplot.show()"
   ]
  },
  {
   "cell_type": "markdown",
   "metadata": {},
   "source": [
    "To check for the autocorrelation, we can plot  observation at the previous time step (t-1) with the observation at the next time step (t+1) as a scatter plot.\n",
    "\n",
    "This could be done manually by first creating a lag version of the time series dataset and using a built-in scatter plot function in the Pandas library.\n",
    "\n",
    "But there is an easier way.\n",
    "\n",
    "Pandas provides a built-in plot to do exactly this, called the lag_plot() function."
   ]
  },
  {
   "cell_type": "code",
   "execution_count": 5,
   "metadata": {},
   "outputs": [
    {
     "name": "stderr",
     "output_type": "stream",
     "text": [
      "/home/deepshikha/.local/lib/python3.6/site-packages/ipykernel_launcher.py:5: FutureWarning: 'pandas.tools.plotting.lag_plot' is deprecated, import 'pandas.plotting.lag_plot' instead.\n",
      "  \"\"\"\n"
     ]
    },
    {
     "data": {
      "image/png": "[encoded data removed]",
      "text/plain": [
       "<Figure size 432x288 with 1 Axes>"
      ]
     },
     "metadata": {
      "needs_background": "light"
     },
     "output_type": "display_data"
    }
   ],
   "source": [
    "# Importing lag_plot\n",
    "from pandas.tools.plotting import lag_plot\n",
    "\n",
    "# Plotting the lagged values of the series\n",
    "lag_plot(series)\n",
    "pyplot.show()"
   ]
  },
  {
   "cell_type": "markdown",
   "metadata": {},
   "source": [
    "Another way to find auto-correlation is to calculate the Pearson Correlation Coefficient\n",
    "\n",
    "Wikipedia says - \"Pearson's correlation coefficient is the covariance of the two variables divided by the product of their standard deviations. The form of the definition involves a \"product moment\", that is, the mean (the first moment about the origin) of the product of the mean-adjusted random variables; hence the modifier product-moment in the name.\"\n",
    "\n",
    "It's value lies between -1 and +1. -1 means total negative linear correlation, 0 means no linear correlation and +1 means positive linear correlation."
   ]
  },
  {
   "cell_type": "code",
   "execution_count": 6,
   "metadata": {},
   "outputs": [
    {
     "name": "stdout",
     "output_type": "stream",
     "text": [
      "         t-1      t+1\n",
      "t-1  1.00000  0.77362\n",
      "t+1  0.77362  1.00000\n"
     ]
    }
   ],
   "source": [
    "# Converting the pandas series to a dataframe \n",
    "values = pd.DataFrame(series.values)\n",
    "# Putting lag values\n",
    "dataframe = pd.concat([values.shift(1), values], axis=1)\n",
    "dataframe.columns = ['t-1', 't+1']\n",
    "# Finding auto-correlation \n",
    "result = dataframe.corr()\n",
    "print(result)"
   ]
  },
  {
   "cell_type": "markdown",
   "metadata": {},
   "source": [
    "Here, the lag value = 1 and the result shows that there is a positive correlation between the observations with Pearson Correlation Coefficient values as 0.77"
   ]
  },
  {
   "cell_type": "markdown",
   "metadata": {},
   "source": [
    "## Auto-correlation Plots"
   ]
  },
  {
   "cell_type": "markdown",
   "metadata": {},
   "source": [
    "Auto-correlation plots give an idea of which lag variables can be good for use in a predictive model and how relation between observation and historic values changes over time.\n",
    "\n",
    "The plot provides the lag number along the x-axis and the correlation coefficient value between -1 and 1 on the y-axis. The plot also includes solid and dashed lines that indicate the 95% and 99% confidence interval for the correlation values. Correlation values above these lines are more significant than those below the line, providing a threshold or cutoff for selecting more relevant lag values.\n",
    "\n",
    "These plots can be easily implemented using pandas library"
   ]
  },
  {
   "cell_type": "code",
   "execution_count": 7,
   "metadata": {},
   "outputs": [
    {
     "name": "stderr",
     "output_type": "stream",
     "text": [
      "/home/deepshikha/.local/lib/python3.6/site-packages/ipykernel_launcher.py:2: FutureWarning: 'pandas.tools.plotting.autocorrelation_plot' is deprecated, import 'pandas.plotting.autocorrelation_plot' instead.\n",
      "  \n"
     ]
    },
    {
     "data": {
      "image/png": "[encoded data removed]",
      "text/plain": [
       "<Figure size 432x288 with 1 Axes>"
      ]
     },
     "metadata": {
      "needs_background": "light"
     },
     "output_type": "display_data"
    }
   ],
   "source": [
    "from pandas.tools.plotting import autocorrelation_plot\n",
    "autocorrelation_plot(series)\n",
    "pyplot.show()"
   ]
  },
  {
   "cell_type": "markdown",
   "metadata": {},
   "source": [
    "It can also be implemented using statsmodels library's plot_acf() function as a line plot"
   ]
  },
  {
   "cell_type": "code",
   "execution_count": 8,
   "metadata": {},
   "outputs": [
    {
     "data": {
      "image/png": "[encoded data removed]",
      "text/plain": [
       "<Figure size 432x288 with 1 Axes>"
      ]
     },
     "metadata": {
      "needs_background": "light"
     },
     "output_type": "display_data"
    }
   ],
   "source": [
    "from statsmodels.graphics.tsaplots import plot_acf\n",
    "plot_acf(series, lags=31)\n",
    "pyplot.show()"
   ]
  },
  {
   "cell_type": "markdown",
   "metadata": {},
   "source": [
    "## Partial Auto-Correlation"
   ]
  },
  {
   "cell_type": "markdown",
   "metadata": {},
   "source": [
    "A partial autocorrelation is a summary of the relationship between an observation in a time series with observations at prior time steps with the relationships of intervening observations removed.\n",
    "\n",
    "The partial autocorrelation at lag k is the correlation that results after removing the effect of any correlations due to the terms at shorter lags.\n",
    "\n",
    "The autocorrelation for an observation and an observation at a prior time step is comprised of both the direct correlation and indirect correlations. These indirect correlations are a linear function of the correlation of the observation, with observations at intervening time steps.\n",
    "\n",
    "It is these indirect correlations that the partial autocorrelation function seeks to remove. "
   ]
  },
  {
   "cell_type": "code",
   "execution_count": 19,
   "metadata": {},
   "outputs": [
    {
     "data": {
      "image/png": "[encoded data removed]",
      "text/plain": [
       "<Figure size 432x288 with 1 Axes>"
      ]
     },
     "metadata": {
      "needs_background": "light"
     },
     "output_type": "display_data"
    }
   ],
   "source": [
    "from statsmodels.graphics.tsaplots import plot_pacf\n",
    "plot_pacf(series, lags=50)\n",
    "pyplot.show()"
   ]
  },
  {
   "cell_type": "markdown",
   "metadata": {},
   "source": [
    "#### Auto Regression Intuition of ACF and PACF \n",
    "To conclude ACF describes autocorrelation between an observation and another observation at a prior time step which includes both direct and indirect dependence information. So, ACF for AR(k) time series will be strong upto lag k and after that the effect or correlation will reduce. \n",
    "But as PACF only describes the direct relationship between an observation and another observation at a prior time step so there would be no correlation after k lag values.\n",
    "\n",
    "#### Moving Average Intuition\n",
    "moving average process is an autoregression model of the time series of residual errors from prior predictions. Another way to think about the moving average model is that it corrects future forecasts based on errors made on recent forecasts.\n",
    "ACF for the MA(k) process shows a strong correlation with recent values up to the lag of k, then a sharp decline to low or no correlation. \n",
    "PACF, plot will show a strong relationship to the lag and a trailing off of correlation from the lag onwards."
   ]
  },
  {
   "cell_type": "markdown",
   "metadata": {},
   "source": [
    "## Persistence Model"
   ]
  },
  {
   "cell_type": "markdown",
   "metadata": {},
   "source": [
    "It is the simplest model that can be used to make prediction with time series data. \n",
    "\n",
    "The persistence algorithm uses the value at the previous time step (t-1) to predict the expected outcome at the next time step (t+1).\n",
    "\n",
    "A persistent series is one where the value of the variable at a certain date is closely related to the previous value. The two basic measures of persistence are the autocovariance and the autocorrelation coefficient."
   ]
  },
  {
   "cell_type": "code",
   "execution_count": 9,
   "metadata": {},
   "outputs": [
    {
     "name": "stdout",
     "output_type": "stream",
     "text": [
      "Test MSE: 3.423\n"
     ]
    },
    {
     "data": {
      "image/png": "[encoded data removed]",
      "text/plain": [
       "<Figure size 432x288 with 1 Axes>"
      ]
     },
     "metadata": {
      "needs_background": "light"
     },
     "output_type": "display_data"
    }
   ],
   "source": [
    "from sklearn.metrics import mean_squared_error\n",
    "\n",
    "# create lagged dataset\n",
    "values = pd.DataFrame(series.values)\n",
    "dataframe = pd.concat([values.shift(1), values], axis=1)\n",
    "dataframe.columns = ['t-1', 't+1']\n",
    "# split into train and test sets\n",
    "X = dataframe.values\n",
    "train, test = X[1:len(X)-7], X[len(X)-7:]\n",
    "train_X, train_y = train[:,0], train[:,1]\n",
    "test_X, test_y = test[:,0], test[:,1]\n",
    " \n",
    "# persistence model\n",
    "def model_persistence(x):\n",
    "    return x\n",
    "\n",
    "# walk-forward validation\n",
    "predictions = list()\n",
    "for x in test_X:\n",
    "\tyhat = model_persistence(x)\n",
    "\tpredictions.append(yhat)\n",
    "test_score = mean_squared_error(test_y, predictions)\n",
    "print('Test MSE: %.3f' % test_score)\n",
    "# plot predictions vs expected\n",
    "pyplot.plot(test_y)\n",
    "pyplot.plot(predictions, color='red')\n",
    "pyplot.show()"
   ]
  },
  {
   "cell_type": "markdown",
   "metadata": {},
   "source": [
    "## Auto-Regression Model"
   ]
  },
  {
   "cell_type": "markdown",
   "metadata": {},
   "source": [
    "An autoregression model is a linear regression model that uses lagged variables as input variables.\n",
    "\n",
    "We could calculate the linear regression model manually using the LinearRegession class in scikit-learn and manually specify the lag input variables to use.\n",
    "\n",
    "Alternately, the statsmodels library provides an autoregression model that automatically selects an appropriate lag value using statistical tests and trains a linear regression model. It is provided in the AR class."
   ]
  },
  {
   "cell_type": "code",
   "execution_count": 10,
   "metadata": {},
   "outputs": [
    {
     "name": "stdout",
     "output_type": "stream",
     "text": [
      "Lag: 29\n",
      "Coefficients: [ 0.55974632  0.58709415 -0.09246698  0.05085627  0.03908131  0.04156931\n",
      "  0.02416716  0.04398952  0.01499416  0.03491271  0.00079989  0.00560537\n",
      "  0.01592083  0.02563525  0.0019312   0.0257546   0.00842032  0.0099442\n",
      "  0.03284872 -0.00944755  0.02473185  0.01840579  0.01422356 -0.01669205\n",
      " -0.00127444  0.01253475  0.0206685   0.01062753  0.00137506  0.00296821]\n",
      "predicted=11.897334, expected=12.900000\n",
      "predicted=13.065633, expected=14.600000\n",
      "predicted=13.542059, expected=14.000000\n",
      "predicted=13.282815, expected=13.600000\n",
      "predicted=13.118024, expected=13.500000\n",
      "predicted=13.152012, expected=15.700000\n",
      "predicted=13.157325, expected=13.000000\n",
      "Test MSE: 1.476\n"
     ]
    },
    {
     "data": {
      "image/png": "[encoded data removed]",
      "text/plain": [
       "<Figure size 432x288 with 1 Axes>"
      ]
     },
     "metadata": {
      "needs_background": "light"
     },
     "output_type": "display_data"
    }
   ],
   "source": [
    "from statsmodels.tsa.ar_model import AR\n",
    "# split dataset\n",
    "X = series.values\n",
    "train, test = X[1:len(X)-7], X[len(X)-7:]\n",
    "# train autoregression\n",
    "model = AR(train)\n",
    "model_fit = model.fit()\n",
    "print('Lag: %s' % model_fit.k_ar)\n",
    "print('Coefficients: %s' % model_fit.params)\n",
    "# make predictions\n",
    "predictions = model_fit.predict(start=len(train), end=len(train)+len(test)-1, dynamic=False)\n",
    "for i in range(len(predictions)):\n",
    "\tprint('predicted=%f, expected=%f' % (predictions[i], test[i]))\n",
    "error = mean_squared_error(test, predictions)\n",
    "print('Test MSE: %.3f' % error)\n",
    "# plot results\n",
    "pyplot.plot(test)\n",
    "pyplot.plot(predictions, color='red')\n",
    "pyplot.show()"
   ]
  },
  {
   "cell_type": "markdown",
   "metadata": {},
   "source": [
    "As you can see Auto-Regression Model results in less mean squared error than Persistence Model."
   ]
  },
  {
   "cell_type": "markdown",
   "metadata": {},
   "source": [
    "The statsmodels API does not make it easy to update the model as new observations become available.\n",
    "\n",
    "One way would be to re-train the AR model each day as new observations become available, and that may be a valid approach, if not computationally expensive.\n",
    "\n",
    "An alternative would be to use the learned coefficients and manually make predictions. This requires that the history of 29 prior observations be kept and that the coefficients be retrieved from the model and used in the regression equation to come up with new forecasts.\n",
    "\n",
    "The coefficients are provided in an array with the intercept term followed by the coefficients for each lag variable starting at t-1 to t-n. We simply need to use them in the right order on the history of observations"
   ]
  },
  {
   "cell_type": "markdown",
   "metadata": {},
   "source": [
    "## Moving Average"
   ]
  },
  {
   "cell_type": "markdown",
   "metadata": {},
   "source": [
    "Moving Average method is used to observe change in the trend of the data. For eg. in layman terms, moving average can be used in a series of data where you just calculate average. Let's say the series is as follows: 1, 2, 6, 3, 7, 8. So you start with the first element and take a window size of 3. So firstly, you take first 3 elements and take out the average. In the above series, the average of first three elements will be (2 + 2 + 6)/3 = 3. Then you move the window forward by one step and take 2nd, 3rd and 4th element and calculate the average. Thereafter, the window shifts again and takes up 3rd, 4th and 5th element and calculates the average. Now how this will help us observe the trend is that the average will either increase all of a sudden or drop and there you will realize that the trend in the series has changed."
   ]
  },
  {
   "cell_type": "markdown",
   "metadata": {},
   "source": [
    "So, it measures the trend by eliminating the changes or the variations by means of a moving average. The simplest of the mean used for the measurement of a trend is the arithmetic means (averages) that I have used in the example above.\n",
    "\n",
    "The moving average of a period m is a series of successive averages of m terms at a time. The data set used for calculating the average starts with first, second, third and etc. at a time and m data taken at a time.\n",
    "\n",
    "The first average is the mean of the first m terms. The second average is the mean of the m terms starting from the second data up to (m + 1)th term. Similarly, the third average is the mean of the m terms from the third to (m + 2) th term and so on.\n",
    "\n",
    "If the period, m is odd i.e., m is of the form (2k + 1), the moving average is placed against the mid-value of the time interval it covers, i.e., t = k + 1. On the other hand, if m is even i.e., m = 2k, it is placed between the two middle values of the time interval it covers, i.e., t = k and t = k + 1.\n",
    "\n",
    "When the period of the moving average is even, then we need to synchronize the moving average with the original time period. It is done by centering the moving averages i.e., by taking the average of the two successive moving averages."
   ]
  },
  {
   "cell_type": "markdown",
   "metadata": {},
   "source": [
    "There are various problems associated with Moving Average as well:\n",
    "1) It assumes that the trend is linear which is not always the case.\n",
    "2) It does not provide trend values for all the terms.\n",
    "3) It cannot be used for forecasting future trend which is like the main purpose of time series analysis.\n",
    "\n",
    "The moving average algorithm is used only on time series that DOESN'T have a trend. So, the only case where Moving Average can be used to forecast new values will be on a dataset that does not have a trend."
   ]
  },
  {
   "cell_type": "markdown",
   "metadata": {},
   "source": [
    "We will start with Moving Average using another dataset named hospital admissions dataset"
   ]
  },
  {
   "cell_type": "code",
   "execution_count": 11,
   "metadata": {},
   "outputs": [
    {
     "data": {
      "image/png": "[encoded data removed]",
      "text/plain": [
       "<Figure size 432x288 with 1 Axes>"
      ]
     },
     "metadata": {
      "needs_background": "light"
     },
     "output_type": "display_data"
    }
   ],
   "source": [
    "# Importing Libraries\n",
    "import numpy as np\n",
    "import pandas as pd\n",
    "import matplotlib.pyplot as plt\n",
    "\n",
    "# Importing dataset and plotting it \n",
    "dataset = pd.read_csv(\"hospital_admissions.csv\")\n",
    "dataset.plot()\n",
    "plt.show()"
   ]
  },
  {
   "cell_type": "code",
   "execution_count": 12,
   "metadata": {},
   "outputs": [
    {
     "name": "stdout",
     "output_type": "stream",
     "text": [
      "MSE = [17.99999887 24.6328125  24.92571524 21.48610899]\n",
      "Best MSE = 17.99999886972364\n",
      "Optimal n = 3\n"
     ]
    }
   ],
   "source": [
    "optimal_n = None\n",
    "best_mse = None\n",
    "db = dataset.iloc[:, :].values.astype('float32')\n",
    "mean_results_for_all_possible_n_values = np.zeros(int(len(db) / 2 - 2))\n",
    "for n in range(3, int(len(db) / 2 + 1)):\n",
    "    mean_for_n = np.zeros(len(db) - n)\n",
    "    for i in range(0, len(db) - n):\n",
    "        mean_for_n[i] = np.power(np.mean(db[:, 0][i:i+n]) - db[i + n][0], 2)\n",
    "    mean_results_for_all_possible_n_values[n - 3] = np.mean(mean_for_n)\n",
    "optimal_n = np.argmin(mean_results_for_all_possible_n_values) + 3\n",
    "best_mse = np.min(mean_results_for_all_possible_n_values)\n",
    "print(\"MSE = %s\" % mean_results_for_all_possible_n_values)\n",
    "print(\"Best MSE = %s\" % best_mse)\n",
    "print(\"Optimal n = %s\" % optimal_n)"
   ]
  },
  {
   "cell_type": "code",
   "execution_count": 13,
   "metadata": {},
   "outputs": [
    {
     "name": "stdout",
     "output_type": "stream",
     "text": [
      "MA = 81.0\n"
     ]
    }
   ],
   "source": [
    "print(\"MA = %s\" % np.mean(db[:, 0][len(db) - optimal_n:len(db)]))"
   ]
  },
  {
   "cell_type": "code",
   "execution_count": 14,
   "metadata": {},
   "outputs": [
    {
     "data": {
      "image/png": "[encoded data removed]",
      "text/plain": [
       "<Figure size 432x288 with 1 Axes>"
      ]
     },
     "metadata": {
      "needs_background": "light"
     },
     "output_type": "display_data"
    }
   ],
   "source": [
    "forecast = np.zeros(len(db) + 1)\n",
    "for i in range(0, optimal_n):\n",
    "    forecast[i] = db[i][0]\n",
    "for i in range(0, len(db) - optimal_n + 1):\n",
    "        forecast[i+optimal_n] = np.mean(db[:, 0][i:i+optimal_n])\n",
    "plt.plot(db[:, 0],label = 'real data')\n",
    "plt.plot(forecast, label = 'forecast')\n",
    "plt.legend()\n",
    "plt.show()"
   ]
  },
  {
   "cell_type": "markdown",
   "metadata": {},
   "source": [
    "While working with Time Series Data, multiple algorithms should be used to forecast data and then you should settle for the one which has the minimum MSE (Mean Squared Error)"
   ]
  },
  {
   "cell_type": "markdown",
   "metadata": {},
   "source": [
    "## Decomposing Time Series Data into Trend and Seasonality"
   ]
  },
  {
   "cell_type": "markdown",
   "metadata": {},
   "source": [
    "A time series data is generally composed of trend, level, noise and seasonality components.\n",
    "\n",
    "The time series data should be broken down into systematic and non-systematic components. Systematic components have consistency so it can be described and modeled. The non-systematic components cannot be directly modeled.\n",
    "\n",
    "The four components of time series data can be described as follows:\n",
    "Level - it is the average values in the series.\n",
    "Trend - the increasing or decreasing value in the series.\n",
    "Seasonality - the repeating short term cycle in time series.\n",
    "Noise - it is the random variations in the dataset. Generally, the term noise is used in the context of the dataset when there are some rows or values in the dataset that does not matches with the  rest of the dataset.\n",
    "\n",
    "A series is thought to be an aggregate or combination of these four components.\n",
    "\n",
    "All series have a level and noise. The trend and seasonality components are optional."
   ]
  },
  {
   "cell_type": "markdown",
   "metadata": {},
   "source": [
    "These components are generally considered either added or multiplicated."
   ]
  },
  {
   "cell_type": "markdown",
   "metadata": {},
   "source": [
    "## Additive Model"
   ]
  },
  {
   "cell_type": "markdown",
   "metadata": {},
   "source": [
    "An additive model is linear where changes over time are consistently made by the same amount.\n",
    "\n",
    "A linear trend is a straight line.\n",
    "\n",
    "A linear seasonality has the same frequency (width of cycles) and amplitude (height of cycles).\n",
    "\n",
    "It basically says that value of time series at any time t is equal to the sum of all the components of time series.\n",
    "\n",
    "y(t) = Level + Trend + Seasonality + Noise"
   ]
  },
  {
   "cell_type": "markdown",
   "metadata": {},
   "source": [
    "## Multiplicative Model"
   ]
  },
  {
   "cell_type": "markdown",
   "metadata": {},
   "source": [
    "A multiplicative model is nonlinear, such as quadratic or exponential. Changes increase or decrease over time.\n",
    "\n",
    "A nonlinear trend is a curved line.\n",
    "\n",
    "A non-linear seasonality has an increasing or decreasing frequency and/or amplitude over time.\n",
    "\n",
    "It basically says that value of time series at any time t is equal to the product of all the components of time series.\n",
    "\n",
    "y(t) = Level * Trend * Seasonality * Noise"
   ]
  },
  {
   "cell_type": "markdown",
   "metadata": {},
   "source": [
    "## Time Series Decomposition"
   ]
  },
  {
   "cell_type": "markdown",
   "metadata": {},
   "source": [
    "The statsmodels library provides an implementation of the naive, or classical, decomposition method in a function called seasonal_decompose(). It requires that you specify whether the model is additive or multiplicative.\n",
    "\n",
    "The seasonal_decompose() function returns a result object. The result object contains arrays to access four pieces of data from the decomposition."
   ]
  },
  {
   "cell_type": "code",
   "execution_count": 18,
   "metadata": {},
   "outputs": [
    {
     "data": {
      "image/png": "[encoded data removed]",
      "text/plain": [
       "<Figure size 432x288 with 4 Axes>"
      ]
     },
     "metadata": {
      "needs_background": "light"
     },
     "output_type": "display_data"
    }
   ],
   "source": [
    "# Importing Libraries\n",
    "import statsmodels.api as sm\n",
    "from scipy.signal import savgol_filter\n",
    "\n",
    "# Importing Dataset\n",
    "temp_data = pd.read_csv('daily-minimum-temperatures.csv', header=0)\n",
    "\n",
    "# Removing None values\n",
    "temp_value = pd.Series.to_frame(temp_data['temperatures']).dropna(axis=0, how='all')\n",
    "temp_value = temp_value.values\n",
    "# Converting it into 1D array\n",
    "temp_value = temp_value.ravel()\n",
    "# Applying savgol filter\n",
    "temp_value = savgol_filter(temp_value, 51, 3, mode='nearest')\n",
    "temp_value = pd.Series(temp_value)\n",
    "# Updating temperature column in the dataframe\n",
    "temp_data['temperature'] = temp_value\n",
    "# Defining Freq for Seasonal Decompose\n",
    "decompfreq = 30\n",
    "decompfreq = int(decompfreq)\n",
    "asd = pd.to_datetime(temp_data.Date)\n",
    "temp_data.Date = asd\n",
    "temp_data.set_index('Date', inplace=True)\n",
    "# Seasonal Decompose on the final Dataframe\n",
    "res = sm.tsa.seasonal_decompose(temp_data['temperature'].interpolate(), freq=decompfreq, model='multiplicative')\n",
    "resplot = res.plot()\n",
    "plt.show()"
   ]
  },
  {
   "cell_type": "markdown",
   "metadata": {},
   "source": [
    "As we can see that the entire series was taken as trend and there is no seasonal component in the data.\n",
    "We can also see that the residual plot shows zero. This is a good example where the naive, or classical, decomposition was not able to separate the noise that we added from the linear trend."
   ]
  },
  {
   "cell_type": "code",
   "execution_count": null,
   "metadata": {},
   "outputs": [],
   "source": []
  },
  {
   "cell_type": "code",
   "execution_count": 16,
   "metadata": {},
   "outputs": [
    {
     "name": "stdout",
     "output_type": "stream",
     "text": [
      "Trend Date\n",
      "1981-01-01    19.485085\n",
      "1981-01-02    19.315914\n",
      "1981-01-03    19.214372\n",
      "1981-01-04    19.155224\n",
      "1981-01-05    19.095203\n",
      "1981-01-06    19.014619\n",
      "1981-01-07    18.927061\n",
      "1981-01-08    18.737281\n",
      "1981-01-09    18.476579\n",
      "1981-01-10    18.298439\n",
      "1981-01-11    18.226118\n",
      "1981-01-12    18.148255\n",
      "1981-01-13    18.130816\n",
      "1981-01-14    18.037283\n",
      "1981-01-15    17.739070\n",
      "1981-01-16    17.757637\n",
      "1981-01-17    17.804772\n",
      "1981-01-18    17.834599\n",
      "1981-01-19    17.737935\n",
      "1981-01-20    17.559385\n",
      "1981-01-21    17.415919\n",
      "1981-01-22    17.334433\n",
      "1981-01-23    17.360228\n",
      "1981-01-24    17.451014\n",
      "1981-01-25    17.562695\n",
      "1981-01-26    17.690761\n",
      "1981-01-27    17.799407\n",
      "1981-01-28    17.830639\n",
      "1981-01-29    17.941229\n",
      "1981-01-30    17.903996\n",
      "                ...    \n",
      "1990-12-02    13.650418\n",
      "1990-12-03    13.915398\n",
      "1990-12-04    14.094935\n",
      "1990-12-05    14.154289\n",
      "1990-12-06    14.245503\n",
      "1990-12-07    14.229344\n",
      "1990-12-08    14.311715\n",
      "1990-12-09    14.424873\n",
      "1990-12-10    14.562964\n",
      "1990-12-11    14.659664\n",
      "1990-12-12    14.723138\n",
      "1990-12-13    14.663755\n",
      "1990-12-14    14.635378\n",
      "1990-12-15    14.560946\n",
      "1990-12-16    14.409205\n",
      "1990-12-17    14.438877\n",
      "1990-12-18    14.381191\n",
      "1990-12-19    14.255446\n",
      "1990-12-20    14.125808\n",
      "1990-12-21    14.037448\n",
      "1990-12-22    13.936515\n",
      "1990-12-23    13.692756\n",
      "1990-12-24    13.605669\n",
      "1990-12-25    13.518481\n",
      "1990-12-26    13.366749\n",
      "1990-12-27    13.223128\n",
      "1990-12-28    13.068464\n",
      "1990-12-29    13.002702\n",
      "1990-12-30    12.982312\n",
      "1990-12-31    13.082688\n",
      "Name: temperature, Length: 3647, dtype: float64\n",
      "Seasonal Date\n",
      "1981-01-01    1.0\n",
      "1981-01-02    1.0\n",
      "1981-01-03    1.0\n",
      "1981-01-04    1.0\n",
      "1981-01-05    1.0\n",
      "1981-01-06    1.0\n",
      "1981-01-07    1.0\n",
      "1981-01-08    1.0\n",
      "1981-01-09    1.0\n",
      "1981-01-10    1.0\n",
      "1981-01-11    1.0\n",
      "1981-01-12    1.0\n",
      "1981-01-13    1.0\n",
      "1981-01-14    1.0\n",
      "1981-01-15    1.0\n",
      "1981-01-16    1.0\n",
      "1981-01-17    1.0\n",
      "1981-01-18    1.0\n",
      "1981-01-19    1.0\n",
      "1981-01-20    1.0\n",
      "1981-01-21    1.0\n",
      "1981-01-22    1.0\n",
      "1981-01-23    1.0\n",
      "1981-01-24    1.0\n",
      "1981-01-25    1.0\n",
      "1981-01-26    1.0\n",
      "1981-01-27    1.0\n",
      "1981-01-28    1.0\n",
      "1981-01-29    1.0\n",
      "1981-01-30    1.0\n",
      "             ... \n",
      "1990-12-02    1.0\n",
      "1990-12-03    1.0\n",
      "1990-12-04    1.0\n",
      "1990-12-05    1.0\n",
      "1990-12-06    1.0\n",
      "1990-12-07    1.0\n",
      "1990-12-08    1.0\n",
      "1990-12-09    1.0\n",
      "1990-12-10    1.0\n",
      "1990-12-11    1.0\n",
      "1990-12-12    1.0\n",
      "1990-12-13    1.0\n",
      "1990-12-14    1.0\n",
      "1990-12-15    1.0\n",
      "1990-12-16    1.0\n",
      "1990-12-17    1.0\n",
      "1990-12-18    1.0\n",
      "1990-12-19    1.0\n",
      "1990-12-20    1.0\n",
      "1990-12-21    1.0\n",
      "1990-12-22    1.0\n",
      "1990-12-23    1.0\n",
      "1990-12-24    1.0\n",
      "1990-12-25    1.0\n",
      "1990-12-26    1.0\n",
      "1990-12-27    1.0\n",
      "1990-12-28    1.0\n",
      "1990-12-29    1.0\n",
      "1990-12-30    1.0\n",
      "1990-12-31    1.0\n",
      "Name: temperature, Length: 3647, dtype: float64\n",
      "Residual Date\n",
      "1981-01-01    1.0\n",
      "1981-01-02    1.0\n",
      "1981-01-03    1.0\n",
      "1981-01-04    1.0\n",
      "1981-01-05    1.0\n",
      "1981-01-06    1.0\n",
      "1981-01-07    1.0\n",
      "1981-01-08    1.0\n",
      "1981-01-09    1.0\n",
      "1981-01-10    1.0\n",
      "1981-01-11    1.0\n",
      "1981-01-12    1.0\n",
      "1981-01-13    1.0\n",
      "1981-01-14    1.0\n",
      "1981-01-15    1.0\n",
      "1981-01-16    1.0\n",
      "1981-01-17    1.0\n",
      "1981-01-18    1.0\n",
      "1981-01-19    1.0\n",
      "1981-01-20    1.0\n",
      "1981-01-21    1.0\n",
      "1981-01-22    1.0\n",
      "1981-01-23    1.0\n",
      "1981-01-24    1.0\n",
      "1981-01-25    1.0\n",
      "1981-01-26    1.0\n",
      "1981-01-27    1.0\n",
      "1981-01-28    1.0\n",
      "1981-01-29    1.0\n",
      "1981-01-30    1.0\n",
      "             ... \n",
      "1990-12-02    1.0\n",
      "1990-12-03    1.0\n",
      "1990-12-04    1.0\n",
      "1990-12-05    1.0\n",
      "1990-12-06    1.0\n",
      "1990-12-07    1.0\n",
      "1990-12-08    1.0\n",
      "1990-12-09    1.0\n",
      "1990-12-10    1.0\n",
      "1990-12-11    1.0\n",
      "1990-12-12    1.0\n",
      "1990-12-13    1.0\n",
      "1990-12-14    1.0\n",
      "1990-12-15    1.0\n",
      "1990-12-16    1.0\n",
      "1990-12-17    1.0\n",
      "1990-12-18    1.0\n",
      "1990-12-19    1.0\n",
      "1990-12-20    1.0\n",
      "1990-12-21    1.0\n",
      "1990-12-22    1.0\n",
      "1990-12-23    1.0\n",
      "1990-12-24    1.0\n",
      "1990-12-25    1.0\n",
      "1990-12-26    1.0\n",
      "1990-12-27    1.0\n",
      "1990-12-28    1.0\n",
      "1990-12-29    1.0\n",
      "1990-12-30    1.0\n",
      "1990-12-31    1.0\n",
      "Name: temperature, Length: 3647, dtype: float64\n",
      "Observed Date\n",
      "1981-01-01    19.485085\n",
      "1981-01-02    19.315914\n",
      "1981-01-03    19.214372\n",
      "1981-01-04    19.155224\n",
      "1981-01-05    19.095203\n",
      "1981-01-06    19.014619\n",
      "1981-01-07    18.927061\n",
      "1981-01-08    18.737281\n",
      "1981-01-09    18.476579\n",
      "1981-01-10    18.298439\n",
      "1981-01-11    18.226118\n",
      "1981-01-12    18.148255\n",
      "1981-01-13    18.130816\n",
      "1981-01-14    18.037283\n",
      "1981-01-15    17.739070\n",
      "1981-01-16    17.757637\n",
      "1981-01-17    17.804772\n",
      "1981-01-18    17.834599\n",
      "1981-01-19    17.737935\n",
      "1981-01-20    17.559385\n",
      "1981-01-21    17.415919\n",
      "1981-01-22    17.334433\n",
      "1981-01-23    17.360228\n",
      "1981-01-24    17.451014\n",
      "1981-01-25    17.562695\n",
      "1981-01-26    17.690761\n",
      "1981-01-27    17.799407\n",
      "1981-01-28    17.830639\n",
      "1981-01-29    17.941229\n",
      "1981-01-30    17.903996\n",
      "                ...    \n",
      "1990-12-02    13.650418\n",
      "1990-12-03    13.915398\n",
      "1990-12-04    14.094935\n",
      "1990-12-05    14.154289\n",
      "1990-12-06    14.245503\n",
      "1990-12-07    14.229344\n",
      "1990-12-08    14.311715\n",
      "1990-12-09    14.424873\n",
      "1990-12-10    14.562964\n",
      "1990-12-11    14.659664\n",
      "1990-12-12    14.723138\n",
      "1990-12-13    14.663755\n",
      "1990-12-14    14.635378\n",
      "1990-12-15    14.560946\n",
      "1990-12-16    14.409205\n",
      "1990-12-17    14.438877\n",
      "1990-12-18    14.381191\n",
      "1990-12-19    14.255446\n",
      "1990-12-20    14.125808\n",
      "1990-12-21    14.037448\n",
      "1990-12-22    13.936515\n",
      "1990-12-23    13.692756\n",
      "1990-12-24    13.605669\n",
      "1990-12-25    13.518481\n",
      "1990-12-26    13.366749\n",
      "1990-12-27    13.223128\n",
      "1990-12-28    13.068464\n",
      "1990-12-29    13.002702\n",
      "1990-12-30    12.982312\n",
      "1990-12-31    13.082688\n",
      "Name: temperature, Length: 3647, dtype: float64\n"
     ]
    }
   ],
   "source": [
    "# Printing out all four component values\n",
    "print('Trend', res.trend)\n",
    "print('Seasonal', res.seasonal)\n",
    "print('Residual', res.resid)\n",
    "print('Observed', res.observed)"
   ]
  },
  {
   "cell_type": "code",
   "execution_count": null,
   "metadata": {},
   "outputs": [],
   "source": []
  }
 ],
 "metadata": {
  "kernelspec": {
   "display_name": "Python 3",
   "language": "python",
   "name": "python3"
  },
  "language_info": {
   "codemirror_mode": {
    "name": "ipython",
    "version": 3
   },
   "file_extension": ".py",
   "mimetype": "text/x-python",
   "name": "python",
   "nbconvert_exporter": "python",
   "pygments_lexer": "ipython3",
   "version": "3.6.7"
  }
 },
 "nbformat": 4,
 "nbformat_minor": 2
}
