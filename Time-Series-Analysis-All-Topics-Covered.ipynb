{
 "cells": [
  {
   "cell_type": "markdown",
   "metadata": {},
   "source": [
    "# Autoregressive (AR)"
   ]
  },
  {
   "cell_type": "markdown",
   "metadata": {},
   "source": [
    "### AR method models the next step in sequence as a linear function of observation at prior time steps.\n",
    "AR(1) - First order auto-regressive model.\n",
    "The method is suitable for univariate time series without trend and seasonal components.\n",
    "\n",
    "An auto-regressive model is when a value from a time series is regressed on previous values from that time series.\n",
    "eg. y(t) on y(t-1)\n",
    "\n",
    "In even simpler words \"Autoregression is a time series model that uses observations from previous time steps as input to a regression equation to predict the value at the next time step.\""
   ]
  },
  {
   "cell_type": "markdown",
   "metadata": {},
   "source": [
    "The input variable in this are taken as observations at previous time steps called lag variables\n",
    "\n",
    "We can predict the value for the next time step (t+1) given the observations at the last two time steps (t-1 and t-2) using the following regression model.\n",
    "X(t+1) = b0 + b1 * X(t-1) + b2 * X(t-2)\n",
    "\n",
    "As the regression model uses data from the same input variable at previous time steps, it is referred to as an autoregression (regression of self)."
   ]
  },
  {
   "cell_type": "code",
   "execution_count": 1,
   "metadata": {},
   "outputs": [
    {
     "name": "stdout",
     "output_type": "stream",
     "text": [
      "[100.49367857]\n"
     ]
    }
   ],
   "source": [
    "# Importing libraries\n",
    "from statsmodels.tsa.ar_model import AR\n",
    "from random import random\n",
    "\n",
    "# Generation of dataset using random function\n",
    "data = [x + random() for x in range(1,100)]\n",
    "\n",
    "# Initialize and fit AR model\n",
    "model = AR(data)\n",
    "model_fit = model.fit()\n",
    "\n",
    "# Predict the next value in the series\n",
    "yhat = model_fit.predict(len(data), len(data))\n",
    "print(yhat)"
   ]
  },
  {
   "cell_type": "markdown",
   "metadata": {},
   "source": [
    "# Moving Average (MA)"
   ]
  },
  {
   "cell_type": "markdown",
   "metadata": {},
   "source": [
    "### Rather than using past values of the forecast variable in a regression, a moving average model uses past forecast errors in a regression-like model.\n",
    "\n",
    "The 1st order MA model can be described as :\n",
    "x(t) = (mu) + w(t) + theta(1)*w(t-1)\n",
    "\n",
    "It is different from calculating the moving average of the time series.\n",
    "The method is suitable for univariate time series without trend and seasonal components."
   ]
  },
  {
   "cell_type": "code",
   "execution_count": 3,
   "metadata": {},
   "outputs": [
    {
     "name": "stdout",
     "output_type": "stream",
     "text": [
      "[75.6351011]\n"
     ]
    }
   ],
   "source": [
    "from statsmodels.tsa.arima_model import ARMA\n",
    "from random import random\n",
    "\n",
    "data = [x + random() for x in range(1,100)]\n",
    "\n",
    "model = ARMA(data, order=(0,1))\n",
    "model_fit = model.fit(disp=False)\n",
    "\n",
    "# Predict the next value in the series\n",
    "yhat = model_fit.predict(len(data), len(data))\n",
    "print(yhat)"
   ]
  },
  {
   "cell_type": "markdown",
   "metadata": {},
   "source": [
    "## Autocorrelation"
   ]
  },
  {
   "cell_type": "markdown",
   "metadata": {},
   "source": [
    "Before understanding auto-correlation, let's understand what is correlation.\n",
    "Correlation is relationship between any two variables that happen to occur together. \n",
    "If both the variables change in same direction i.e. either they increase together or decrease together, then they have a positive correlation. But if they move in opposite direction i.e. one increases and the other decreases then they have a negative correlation."
   ]
  },
  {
   "cell_type": "markdown",
   "metadata": {},
   "source": [
    "An autoregression model makes an assumption that the observations at previous time steps are useful to predict the value at the next time step.\n",
    "\n",
    "We can use statistical measures to calculate the correlation between the output variable and values at previous time steps at various different lags. The stronger the correlation between the output variable and a specific lagged variable, the more weight that autoregression model can put on that variable when modeling."
   ]
  },
  {
   "cell_type": "markdown",
   "metadata": {},
   "source": [
    "As the correlation is calculated between the variable and itself at previous time steps, it is called an autocorrelation. It is also called serial correlation because of the sequenced structure of time series data.\n",
    "\n",
    "The correlation statistics can also help to choose which lag variables will be useful in a model and which will not.\n",
    "\n",
    "Interestingly, if all lag variables show low or no correlation with the output variable, then it suggests that the time series problem may not be predictable. This can be very useful when getting started on a new dataset."
   ]
  },
  {
   "cell_type": "code",
   "execution_count": null,
   "metadata": {},
   "outputs": [],
   "source": []
  }
 ],
 "metadata": {
  "kernelspec": {
   "display_name": "Python 3",
   "language": "python",
   "name": "python3"
  },
  "language_info": {
   "codemirror_mode": {
    "name": "ipython",
    "version": 3
   },
   "file_extension": ".py",
   "mimetype": "text/x-python",
   "name": "python",
   "nbconvert_exporter": "python",
   "pygments_lexer": "ipython3",
   "version": "3.6.7"
  }
 },
 "nbformat": 4,
 "nbformat_minor": 2
}
