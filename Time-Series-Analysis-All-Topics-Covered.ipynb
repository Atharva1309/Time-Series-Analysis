{
 "cells": [
  {
   "cell_type": "markdown",
   "metadata": {},
   "source": [
    "# Autoregressive (AR)"
   ]
  },
  {
   "cell_type": "markdown",
   "metadata": {},
   "source": [
    "### AR method models the next step in sequence as a linear function of observation at prior time steps.\n",
    "AR(1) - First order auto-regressive model.\n",
    "The method is suitable for univariate time series without trend and seasonal components.\n",
    "\n",
    "An auto-regressive model is when a value from a time series is regressed on previous values from that time series.\n",
    "eg. y(t) on y(t-1)"
   ]
  },
  {
   "cell_type": "code",
   "execution_count": 1,
   "metadata": {},
   "outputs": [
    {
     "name": "stdout",
     "output_type": "stream",
     "text": [
      "[100.49367857]\n"
     ]
    }
   ],
   "source": [
    "# Importing libraries\n",
    "from statsmodels.tsa.ar_model import AR\n",
    "from random import random\n",
    "\n",
    "# Generation of dataset using random function\n",
    "data = [x + random() for x in range(1,100)]\n",
    "\n",
    "# Initialize and fit AR model\n",
    "model = AR(data)\n",
    "model_fit = model.fit()\n",
    "\n",
    "# Predict the next value in the series\n",
    "yhat = model_fit.predict(len(data), len(data))\n",
    "print(yhat)"
   ]
  },
  {
   "cell_type": "markdown",
   "metadata": {},
   "source": [
    "# Moving Average (MA)"
   ]
  },
  {
   "cell_type": "markdown",
   "metadata": {},
   "source": [
    "### Rather than using past values of the forecast variable in a regression, a moving average model uses past forecast errors in a regression-like model.\n",
    "\n",
    "The 1st order MA model can be described as :\n",
    "x(t) = (mu) + w(t) + theta(1)*w(t-1)\n",
    "\n",
    "It is different from calculating the moving average of the time series.\n",
    "The method is suitable for univariate time series without trend and seasonal components."
   ]
  },
  {
   "cell_type": "code",
   "execution_count": 3,
   "metadata": {},
   "outputs": [
    {
     "name": "stdout",
     "output_type": "stream",
     "text": [
      "[75.6351011]\n"
     ]
    }
   ],
   "source": [
    "from statsmodels.tsa.arima_model import ARMA\n",
    "from random import random\n",
    "\n",
    "data = [x + random() for x in range(1,100)]\n",
    "\n",
    "model = ARMA(data, order=(0,1))\n",
    "model_fit = model.fit(disp=False)\n",
    "\n",
    "# Predict the next value in the series\n",
    "yhat = model_fit.predict(len(data), len(data))\n",
    "print(yhat)"
   ]
  },
  {
   "cell_type": "code",
   "execution_count": 4,
   "metadata": {},
   "outputs": [
    {
     "data": {
      "text/plain": [
       "[1.908421245492853,\n",
       " 2.559611344025374,\n",
       " 3.800027753676085,\n",
       " 4.6789451541324665,\n",
       " 5.595534972258833,\n",
       " 6.381913403601008,\n",
       " 7.002720610281833,\n",
       " 8.22369865699575,\n",
       " 9.089643200221808,\n",
       " 10.857920771480199,\n",
       " 11.33880563253665,\n",
       " 12.624719929083033,\n",
       " 13.878638671683152,\n",
       " 14.67465324948628,\n",
       " 15.527389785068022,\n",
       " 16.01477645816657,\n",
       " 17.43148241223358,\n",
       " 18.16637470417844,\n",
       " 19.62445109441028,\n",
       " 20.6369811644463,\n",
       " 21.24743169844654,\n",
       " 22.790922690184928,\n",
       " 23.91741034784298,\n",
       " 24.764782332922696,\n",
       " 25.29513113865987,\n",
       " 26.235175538358313,\n",
       " 27.85341724658559,\n",
       " 28.461851984333457,\n",
       " 29.895055362932457,\n",
       " 30.5881173095709,\n",
       " 31.927400268447574,\n",
       " 32.49078582059991,\n",
       " 33.348597956809634,\n",
       " 34.8349810272693,\n",
       " 35.38619024371969,\n",
       " 36.14704601603171,\n",
       " 37.92819606043505,\n",
       " 38.80575964983762,\n",
       " 39.89766609015618,\n",
       " 40.63747893198025,\n",
       " 41.928795439787635,\n",
       " 42.692670890352254,\n",
       " 43.15380202058246,\n",
       " 44.858411573928265,\n",
       " 45.06249287870993,\n",
       " 46.12699887443495,\n",
       " 47.3452102005473,\n",
       " 48.56411335975722,\n",
       " 49.65070779334203,\n",
       " 50.641908788859816,\n",
       " 51.57268806291094,\n",
       " 52.90140155331493,\n",
       " 53.75332248911192,\n",
       " 54.52857346617753,\n",
       " 55.93443891179095,\n",
       " 56.6916756015375,\n",
       " 57.53764844854413,\n",
       " 58.80134943097042,\n",
       " 59.43136355317323,\n",
       " 60.78083154338372,\n",
       " 61.65084291023756,\n",
       " 62.95635977361752,\n",
       " 63.901330884808054,\n",
       " 64.1497195456321,\n",
       " 65.51488191378957,\n",
       " 66.90297720032369,\n",
       " 67.22727148556827,\n",
       " 68.60475750603214,\n",
       " 69.4106990894041,\n",
       " 70.40660805952233,\n",
       " 71.6556313303863,\n",
       " 72.09936031300705,\n",
       " 73.92298823523551,\n",
       " 74.58752485190655,\n",
       " 75.95679818343103,\n",
       " 76.11192300653981,\n",
       " 77.7198421461092,\n",
       " 78.03166553690437,\n",
       " 79.26002444904348,\n",
       " 80.04789112850045,\n",
       " 81.0684087820974,\n",
       " 82.69871623974913,\n",
       " 83.0939797058139,\n",
       " 84.5488428780781,\n",
       " 85.12620680356653,\n",
       " 86.35242600107755,\n",
       " 87.97031232721639,\n",
       " 88.49126438655904,\n",
       " 89.2011931261028,\n",
       " 90.39112724207999,\n",
       " 91.66739149049116,\n",
       " 92.6894594450994,\n",
       " 93.433969160221,\n",
       " 94.4861858559869,\n",
       " 95.27075251784974,\n",
       " 96.69471842341551,\n",
       " 97.2839115243886,\n",
       " 98.10142755546956,\n",
       " 99.46723025919322]"
      ]
     },
     "execution_count": 4,
     "metadata": {},
     "output_type": "execute_result"
    }
   ],
   "source": [
    "data"
   ]
  },
  {
   "cell_type": "code",
   "execution_count": null,
   "metadata": {},
   "outputs": [],
   "source": []
  }
 ],
 "metadata": {
  "kernelspec": {
   "display_name": "Python 3",
   "language": "python",
   "name": "python3"
  },
  "language_info": {
   "codemirror_mode": {
    "name": "ipython",
    "version": 3
   },
   "file_extension": ".py",
   "mimetype": "text/x-python",
   "name": "python",
   "nbconvert_exporter": "python",
   "pygments_lexer": "ipython3",
   "version": "3.6.7"
  }
 },
 "nbformat": 4,
 "nbformat_minor": 2
}
